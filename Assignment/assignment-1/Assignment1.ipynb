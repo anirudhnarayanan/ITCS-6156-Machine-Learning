{
 "cells": [
  {
   "cell_type": "code",
   "execution_count": 4,
   "metadata": {},
   "outputs": [
    {
     "name": "stdout",
     "output_type": "stream",
     "text": [
      "2017-05-26,Uluru,14.3,27.6,0.4,NA,NA,WNW,39,NA,NW,0,20,68,27,1020.5,1016.1,4,7,16.1,27.2,No,0,No\n",
      "2017-05-27,Uluru,9.3,28,0,NA,NA,W,28,SSW,WNW,6,11,36,16,1019.9,1016.9,NA,NA,16.6,27.3,No,0,No\n",
      "2017-05-28,Uluru,8,24.6,0,NA,NA,E,33,SE,ESE,11,13,46,25,1021.7,1018.8,4,NA,13.8,23.5,No,0,No\n",
      "2017-05-29,Uluru,12.7,22.2,0,NA,NA,E,37,E,ESE,19,13,59,34,1024.3,1021.7,8,8,13.9,21,No,0,No\n",
      "2017-05-30,Uluru,9.4,22.7,0,NA,NA,E,35,SE,E,13,17,62,32,1026.6,1023.6,8,4,11.8,22.3,No,0,No\n",
      "2017-05-31,Uluru,5.4,20.5,0,NA,NA,E,46,E,E,20,28,56,32,1029.2,1025.3,NA,NA,11.1,20.2,No,0,No\n",
      "2017-06-01,Uluru,5.6,19.4,0,NA,NA,E,43,E,ESE,22,24,61,22,1029.6,1027.1,NA,NA,9.7,18.3,No,0,No\n",
      "2017-06-02,Uluru,1.5,19.2,0,NA,NA,E,37,ESE,ESE,17,22,45,18,1030.7,1026.7,NA,NA,6.8,17.6,No,0,No\n",
      "2017-06-03,Uluru,3.8,19.8,0,NA,NA,ENE,39,ESE,E,19,17,42,22,1028.7,1024.1,NA,NA,8.6,18.9,No,0,No\n",
      "2017-06-04,Uluru,4.5,18.8,0,NA,NA,E,31,ESE,E,13,15,42,26,1026.9,1022.4,NA,NA,9.5,18.6,No,0,No\n",
      "2017-06-05,Uluru,4.9,20.7,0,NA,NA,E,37,ESE,ESE,17,24,38,11,1027.1,1023.9,NA,NA,10.3,19.8,No,0,No\n",
      "2017-06-06,Uluru,1.2,20.8,0,NA,NA,E,43,ESE,E,13,28,29,6,1029.8,1025.9,NA,NA,7.9,19.9,No,0,No\n",
      "2017-06-07,Uluru,0.5,21.7,0,NA,NA,E,43,ESE,ENE,13,20,27,19,1029,1025,NA,NA,9.5,20.5,No,0,No\n",
      "2017-06-08,Uluru,4,20,0,NA,NA,SE,39,ESE,ESE,13,26,58,26,1030.2,1026.7,NA,NA,9.1,19,No,0,No\n",
      "2017-06-09,Uluru,3.4,19.8,0,NA,NA,E,43,ESE,E,19,24,54,23,1031.8,1027.7,NA,NA,8.7,18.9,No,0,No\n",
      "2017-06-10,Uluru,3.2,18.6,0,NA,NA,E,46,ESE,E,15,20,56,29,1031,1027.2,NA,NA,8.2,17.4,No,0,No\n",
      "2017-06-11,Uluru,2.4,19.1,0,NA,NA,E,33,SE,E,17,17,59,24,1030,1026.2,NA,NA,8,18.8,No,0,No\n",
      "2017-06-12,Uluru,5.1,19.7,0,NA,NA,E,46,ESE,E,13,17,56,29,1028.5,1025.8,NA,NA,8.5,19.2,No,0,No\n",
      "2017-06-13,Uluru,2.5,21.2,0,NA,NA,ENE,35,ESE,E,17,19,57,32,1027.2,1023,NA,NA,10.3,20.3,No,0,No\n",
      "2017-06-14,Uluru,2.3,21.4,0,NA,NA,SE,22,SE,SSE,11,7,60,28,1026.9,1022.8,NA,NA,8.9,20.3,No,0,No\n",
      "2017-06-15,Uluru,2.6,22.5,0,NA,NA,S,19,S,E,9,7,59,24,1025,1021.4,NA,NA,8.8,22.1,No,0,No\n",
      "2017-06-16,Uluru,5.2,24.3,0,NA,NA,E,24,SE,E,11,11,53,24,1023.8,1020,NA,NA,12.3,23.3,No,0,No\n",
      "2017-06-17,Uluru,6.4,23.4,0,NA,NA,ESE,31,S,ESE,15,17,53,25,1025.8,1023,NA,NA,11.2,23.1,No,0,No\n",
      "2017-06-18,Uluru,8,20.7,0,NA,NA,ESE,41,SE,E,19,26,56,32,1028.1,1024.3,NA,7,11.6,20,No,0,No\n",
      "2017-06-19,Uluru,7.4,20.6,0,NA,NA,E,35,ESE,E,15,17,63,33,1027.2,1023.3,NA,NA,11,20.3,No,0,No\n",
      "2017-06-20,Uluru,3.5,21.8,0,NA,NA,E,31,ESE,E,15,13,59,27,1024.7,1021.2,NA,NA,9.4,20.9,No,0,No\n",
      "2017-06-21,Uluru,2.8,23.4,0,NA,NA,E,31,SE,ENE,13,11,51,24,1024.6,1020.3,NA,NA,10.1,22.4,No,0,No\n",
      "2017-06-22,Uluru,3.6,25.3,0,NA,NA,NNW,22,SE,N,13,9,56,21,1023.5,1019.1,NA,NA,10.9,24.5,No,0,No\n",
      "2017-06-23,Uluru,5.4,26.9,0,NA,NA,N,37,SE,WNW,9,9,53,24,1021,1016.8,NA,NA,12.5,26.1,No,0,No\n",
      "2017-06-24,Uluru,7.8,27,0,NA,NA,SE,28,SSE,N,13,7,51,24,1019.4,1016.5,3,2,15.1,26,No,0,No\n",
      "['MinTemp', 'MaxTemp', 'Rainfall', 'Evaporation', 'Sunshine', 'WindGustDir', 'WindGustSpeed', 'WindDir9am', 'WindDir3pm', 'WindSpeed9am', 'WindSpeed3pm', 'Humidity9am', 'Humidity3pm', 'Pressure9am', 'Pressure3pm', 'Cloud9am', 'Cloud3pm', 'Temp9am', 'Temp3pm', 'RainToday']\n",
      "(142193, 22)\n"
     ]
    }
   ],
   "source": [
    "import numpy as np\n",
    "import pandas as pd\n",
    "import matplotlib.pyplot as plt\n",
    "%matplotlib inline\n",
    "\n",
    "!tail -30 weatherAUS.csv\n",
    "df = pd.read_csv(\"weatherAUS.csv\")\n",
    "print(df.columns[df.isna().any()].tolist())\n",
    "\n",
    "#print df.iat[3,6] == df.iat[5953,6]\n",
    "#print pd.isnull(df[\"Evaporation\"][5955:5960]).all()\n",
    "for item in list(df.columns.values):\n",
    "    na_len = df[item].isna().sum()\n",
    "    total_len = df[item].count()\n",
    "    \n",
    "    if na_len > 0.7*total_len:\n",
    "        del df[item]\n",
    "\n",
    "\n",
    "columns = list(df.columns.values)\n",
    "col = 0\n",
    "print df.shape\n",
    "df.loc[df.index.dropna()]\n",
    "\n",
    "for index,row in df.iterrows():\n",
    "    removed = False\n",
    "    col = 0\n",
    "    while col < len(columns) and removed == False:\n",
    "        if row[columns[col]] != row[columns[col]]:\n",
    "            df.drop(index, inplace=True)\n",
    "            removed = True\n",
    "        col = col+1\n",
    "\n",
    "df.to_csv(\"ausweather_preprocessed.csv\", sep='\\t', encoding='utf-8')\n",
    "\n",
    " \n",
    "\n",
    "\n",
    "            \n",
    "    \n",
    "\n",
    " \n",
    "\n",
    "\n",
    "\n",
    "#print(df[df[\"Evaporation\"] == df[\"Evaporation\"]])\n",
    "    "
   ]
  },
  {
   "cell_type": "code",
   "execution_count": null,
   "metadata": {},
   "outputs": [],
   "source": []
  },
  {
   "cell_type": "code",
   "execution_count": null,
   "metadata": {},
   "outputs": [],
   "source": []
  },
  {
   "cell_type": "code",
   "execution_count": null,
   "metadata": {},
   "outputs": [],
   "source": []
  },
  {
   "cell_type": "code",
   "execution_count": null,
   "metadata": {},
   "outputs": [],
   "source": []
  }
 ],
 "metadata": {
  "kernelspec": {
   "display_name": "Python 2",
   "language": "python",
   "name": "python2"
  },
  "language_info": {
   "codemirror_mode": {
    "name": "ipython",
    "version": 2
   },
   "file_extension": ".py",
   "mimetype": "text/x-python",
   "name": "python",
   "nbconvert_exporter": "python",
   "pygments_lexer": "ipython2",
   "version": "2.7.15rc1"
  }
 },
 "nbformat": 4,
 "nbformat_minor": 2
}
